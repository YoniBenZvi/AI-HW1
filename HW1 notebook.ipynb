{
 "cells": [
  {
   "cell_type": "code",
   "execution_count": null,
   "metadata": {},
   "outputs": [],
   "source": [
    "from tabulate import tabulate\n",
    "import math\n",
    "\n",
    "list = []\n",
    "for x in range(1, 11):\n",
    "    list2 = [x, math.factorial(x), math.factorial(x) * (5 ** (x - 1))]\n",
    "    list.append(list2)\n",
    "print(tabulate(list, headers=['k', 'l = 0', 'l = 5'], tablefmt='orgtbl'))"
   ]
  }
 ],
 "metadata": {
  "kernelspec": {
   "display_name": "Python 3",
   "language": "python",
   "name": "python3"
  },
  "language_info": {
   "codemirror_mode": {
    "name": "ipython",
    "version": 3
   },
   "file_extension": ".py",
   "mimetype": "text/x-python",
   "name": "python",
   "nbconvert_exporter": "python",
   "pygments_lexer": "ipython3",
   "version": "3.6.7"
  }
 },
 "nbformat": 4,
 "nbformat_minor": 2
}
