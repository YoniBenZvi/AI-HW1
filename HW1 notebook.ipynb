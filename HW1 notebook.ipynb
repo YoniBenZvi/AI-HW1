{
 "cells": [
  {
   "cell_type": "markdown",
   "metadata": {},
   "source": [
    "# Part A"
   ]
  },
  {
   "cell_type": "markdown",
   "metadata": {},
   "source": [
    "### Question 1\n",
    "The requested table is produced by the following code:"
   ]
  },
  {
   "cell_type": "code",
   "execution_count": 1,
   "metadata": {},
   "outputs": [
    {
     "name": "stdout",
     "output_type": "stream",
     "text": [
      "|   k |   l = 0 |         l = 5 |\n|-----+---------+---------------|\n|   1 |       1 |             1 |\n|   2 |       2 |            10 |\n|   3 |       6 |           150 |\n|   4 |      24 |          3000 |\n|   5 |     120 |         75000 |\n|   6 |     720 |       2250000 |\n|   7 |    5040 |      78750000 |\n|   8 |   40320 |    3150000000 |\n|   9 |  362880 |  141750000000 |\n|  10 | 3628800 | 7087500000000 |\n"
     ]
    }
   ],
   "source": [
    "from tabulate import tabulate\n",
    "import math\n",
    "\n",
    "list1 = []\n",
    "for x in range(1, 11):\n",
    "    list2 = [x, math.factorial(x), math.factorial(x) * (5 ** (x - 1))]\n",
    "    list1.append(list2)\n",
    "print(tabulate(list1, headers=['k', 'l = 0', 'l = 5'], tablefmt='orgtbl'))\n"
   ]
  },
  {
   "cell_type": "markdown",
   "metadata": {},
   "source": [
    "# Part C"
   ]
  },
  {
   "cell_type": "markdown",
   "metadata": {},
   "source": [
    "### Question 2\n",
    "The branching factor's extremum values are: <br> <br>\n",
    "Maximum = $k+l$ because if our graph is a complete graph, each vertex is connected to all other gas stations and all other delivery points. If the current vertex is $v_0$, then it is connected to all other $k+l$ vertices of the graph. This is the maximal number of vertices it can be connected to using the operators defined in the exercise. <br> <br>\n",
    "Minimum = $1$ because if the graph is 1-regular (שרוך) then the maximal outdegree of each vertex is 1, and therefore the graph's branching factor is 1."
   ]
  },
  {
   "cell_type": "markdown",
   "metadata": {},
   "source": [
    "### Question 3\n",
    "Yes. Consider a graph that contains two gas station vertices $f_1,f_2$ that are connected to each other, and the distance between them is less than the maximal distance the scooter can go when its fuel tank is full. Suppose the scooter is currently at $f_1$. Therefore, its fuel tank is full. Let us denote this state as $S_1$. Suppose it chooses to go to $f_2$. Once it arrives at $f_2$, its fuel level is once again full. Lastly, suppose the scooter chooses to go back to $f_1$. Once it arrives there (for the second time), its fuel capacity is once again full. Note that the current state is identical to $S_1$, as The sets $T,F$ have not changed during this path's traversal, and the fuel levels were constant. Therefore, we have found a directed cycle in the graph."
   ]
  },
  {
   "cell_type": "markdown",
   "metadata": {},
   "source": [
    "### Question 4\n",
    "Let us first distinguish between the start state $\\left(v_0,d_0,\\textrm{Ord},\\emptyset \\right)$ and all other states. <br> Since we assume no order or gas station can be placed in $v_0$, the only time the scooter will be at $v_0$ is when the algorithm starts. Hence, we can count this state only once.<br>\n",
    "\n",
    "Once we have the distinction above, the number of options for the scooter's location is $k+l$, as it can only stop at gas stations (which there are $l$ of) or delivery drop-off locations (which there are $k$ of). <br>\n",
    "\n",
    "As for the fuel level $d$, if we assume the possible fuel levels are real values between $0$ and $d_\\textrm{refuel}$ in, say, double-precision, then the number of options is $2^{64}=18446744073709551616$ (with maximal resolution possible with respect to the real  value range $[0,d_\\textrm{refuel}]$).\n",
    "\n",
    "As was pointed out in the exercise, we can keep track of only one of the sets $T,F$, since the other is its complimentary set with respect to $[k] =\\{ 1,\\dots,k\\}$. Without loss of generality let us keep track of only $T$. Hence, the number of possible sets $T$ is $|\\mathcal{P}([k])|=2^k$, where $\\mathcal{P}()$ denotes the power set. <br>\n",
    "\n",
    "To summarize, the resulting number of states is given by the formula $$((k+l)\\cdot (2^{64})\\cdot 2^{k})+1$$"
   ]
  },
  {
   "cell_type": "markdown",
   "metadata": {},
   "source": [
    "### Question 5\n",
    "Yes. Assume that $|T|\\geq 2$ and that the scooter has just enough gas to reach a certain delivery drop-off point $t_i$ from its current location, and have exactly zero fuel left upon arrival at $t_i$. The operation $|T|\\leftarrow |T|-1$ is computed, and the scooter cannot go further to any delivery drop-off point nor gas station in the graph, and the new state it's at is not a goal state since $|T|\\geq 1$."
   ]
  },
  {
   "cell_type": "markdown",
   "metadata": {},
   "source": [
    "### Question 6\n",
    "$$\\text{Succ}_{1}\\left(\\left(v_{1},d_{1},T_{1},F_{1}\\right)\\right)\t=\\left\\{ \\left(\\left(v_{2},d_{2},T_{2},F_{2}\\right)\\in S:\\ \\substack{v_{2}\\in\\text{ Ord }\\\\\n",
    "d_{2}=d_{1}-\\text{ Dist}\\left(v_{1},v_{2}\\right)\\quad\\land\\quad d_{1}-\\text{ Dist}\\left(v_{1},v_{2}\\right)\\geq0\\\\\n",
    "\\exists i\\in\\left[k\\right]:\\quad i\\in T_{1}\\quad\\land\\quad T_{2}=T_{1}\\setminus\\left\\{ i\\right\\} \\quad\\land\\quad F_{2}=F_{1}\\cup\\left\\{ i\\right\\} \n",
    "}\n",
    "\\right)\\right\\}$$\n",
    "$$\\text{Succ}_{2}\\left(\\left(v_{1},d_{1},T_{1},F_{1}\\right)\\right)\t=\\left\\{ \\left(v_{2},d_{2},T_{2},F_{2}\\right)\\in S:\\ \\substack{v_{2}\\in\\text{ GasStations }\\\\\n",
    "d_{2}=d_{\\text{refuel}}\\quad\\land\\quad d_{1}-\\text{ Dist}\\left(v_{1},v_{2}\\right)\\geq0\\\\\n",
    "T_{1}=T_{2}\\quad\\land\\quad F_{1}=F_{2}\n",
    "}\n",
    "\\right\\}$$ \n",
    "$$\\text{Succ}\\left(\\left(v_{1},d_{1},T_{1},F_{1}\\right)\\right)\t=\\text{Succ}_{1}\\left(\\left(v_{1},d_{1},T_{1},F_{1}\\right)\\right)\\ \\cup\\ \\text{Succ}_{2}\\left(\\left(v_{1},d_{1},T_{1},F_{1}\\right)\\right)$$"
   ]
  },
  {
   "cell_type": "markdown",
   "metadata": {},
   "source": [
    "### Question 7\n",
    "If we ignore the fuel constraint and assume that $d_0$ is very big such that the scooter does not need to refuel during its trip, the goal state minimal depth must be at least the number of delivery drop-off points $k$, as the scooter must go through all of them to get to a goal state. If we reconsider the fuel constraint, each refuel operation adds one level of depth to the search, hence increasing the depth. Therefore, the minimal depth is $k$."
   ]
  },
  {
   "cell_type": "markdown",
   "metadata": {},
   "source": [
    "# Part D"
   ]
  },
  {
   "cell_type": "markdown",
   "metadata": {},
   "source": [
    "### Question 8\n",
    "The Output is: <br><br>\n",
    "load_map_from_csv: 1.52sec\n",
    "\n",
    "Solve the map problem.\n",
    "Map(src: 54 dst: 549)                 UniformCost                   time:   0.59   #dev: 17355   total_cost:  7465.52897   |path|: 137   path: [   54,    55,    56,    57,    58,    59,    60, 28893, 14580, 14590, 14591, 14592, 14593, 81892, 25814,    81, 26236, 26234,  1188, 33068, 33069, 33070, 15474, 33071,  5020, 21699, 33072, 33073, 33074, 16203,  9847,  9848,  9849,  9850,  9851,   335,  9852, 82906, 82907, 82908, 82909, 95454, 96539, 72369, 94627, 38553, 72367, 29007, 94632, 96540,  9269, 82890, 29049, 29026, 82682, 71897, 83380, 96541, 82904, 96542, 96543, 96544, 96545, 96546, 96547, 82911, 82928, 24841, 24842, 24843,  5215, 24844,  9274, 24845, 24846, 24847, 24848, 24849, 24850, 24851, 24852, 24853, 24854, 24855, 24856, 24857, 24858, 24859, 24860, 24861, 24862, 24863, 24864, 24865, 24866, 82208, 82209, 82210, 21518, 21431, 21432, 21433, 21434, 21435, 21436, 21437, 21438, 21439, 21440, 21441, 21442, 21443, 21444, 21445, 21446, 21447, 21448, 21449, 21450, 21451,   621, 21452, 21453, 21454, 21495, 21496,   539,   540,   541,   542,   543,   544,   545,   546,   547,   548,   549]"
   ]
  },
  {
   "cell_type": "code",
   "execution_count": null,
   "metadata": {},
   "outputs": [],
   "source": []
  }
 ],
 "metadata": {
  "kernelspec": {
   "display_name": "Python 3",
   "language": "python",
   "name": "python3"
  },
  "language_info": {
   "codemirror_mode": {
    "name": "ipython",
    "version": 3
   },
   "file_extension": ".py",
   "mimetype": "text/x-python",
   "name": "python",
   "nbconvert_exporter": "python",
   "pygments_lexer": "ipython3",
   "version": "3.6.7"
  }
 },
 "nbformat": 4,
 "nbformat_minor": 2
}
