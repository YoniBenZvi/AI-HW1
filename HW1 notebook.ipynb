{
 "cells": [
  {
   "cell_type": "markdown",
   "metadata": {},
   "source": [
    "<center><h1> Introduction to Artificial Intelligence 236501<br>\n",
    "    Homework 1 </h1>\n",
    "<h2>Yoni Ben-Zvi 203668900 Danny Priymak 307003434</h2></center>"
   ]
  },
  {
   "cell_type": "markdown",
   "metadata": {},
   "source": [
    "### Question 1\n",
    "The requested table is produced by the following code:"
   ]
  },
  {
   "cell_type": "code",
   "execution_count": 1,
   "metadata": {},
   "outputs": [
    {
     "name": "stdout",
     "output_type": "stream",
     "text": [
      "|   k |   l = 0 |         l = 5 |\n",
      "|-----+---------+---------------|\n",
      "|   1 |       1 |             1 |\n",
      "|   2 |       2 |            10 |\n",
      "|   3 |       6 |           150 |\n",
      "|   4 |      24 |          3000 |\n",
      "|   5 |     120 |         75000 |\n",
      "|   6 |     720 |       2250000 |\n",
      "|   7 |    5040 |      78750000 |\n",
      "|   8 |   40320 |    3150000000 |\n",
      "|   9 |  362880 |  141750000000 |\n",
      "|  10 | 3628800 | 7087500000000 |\n"
     ]
    }
   ],
   "source": [
    "from tabulate import tabulate\n",
    "import math\n",
    "\n",
    "list1 = []\n",
    "for x in range(1, 11):\n",
    "    list2 = [x, math.factorial(x), math.factorial(x) * (5 ** (x - 1))]\n",
    "    list1.append(list2)\n",
    "print(tabulate(list1, headers=['k', 'l = 0', 'l = 5'], tablefmt='orgtbl'))\n"
   ]
  },
  {
   "cell_type": "markdown",
   "metadata": {},
   "source": [
    "### Question 2\n",
    "The branching factor's extremum values are: <br> <br>\n",
    "Maximum = $k+l$ because if our graph is a complete graph, each vertex is connected to all other gas stations and all other delivery points. If the current vertex is $v_0$, then it is connected to all other $k+l$ vertices of the graph. This is the maximal number of vertices it can be connected to using the operators defined in the exercise. <br> <br>\n",
    "Minimum = $1$ because if the graph is 1-regular (שרוך) then the maximal outdegree of each vertex is 1, and therefore the graph's branching factor is 1."
   ]
  },
  {
   "cell_type": "markdown",
   "metadata": {},
   "source": [
    "### Question 3\n",
    "Yes. Consider a graph that contains two gas station vertices $f_1,f_2$ that are connected to each other, and the distance between them is less than the maximal distance the scooter can go when its fuel tank is full. Suppose the scooter is currently at $f_1$. Therefore, its fuel tank is full. Let us denote this state as $S_1$. Suppose it chooses to go to $f_2$. Once it arrives at $f_2$, its fuel level is once again full. Lastly, suppose the scooter chooses to go back to $f_1$. Once it arrives there (for the second time), its fuel capacity is once again full. Note that the current state is identical to $S_1$, as The sets $T,F$ have not changed during this path's traversal, and the fuel levels were constant. Therefore, we have found a directed cycle in the graph."
   ]
  },
  {
   "cell_type": "markdown",
   "metadata": {},
   "source": [
    "### Question 4\n",
    "Let us first distinguish between the start state $\\left(v_0,d_0,\\textrm{Ord},\\emptyset \\right)$ and all other states. <br> Since we assume no order or gas station can be placed in $v_0$, the only time the scooter will be at $v_0$ is when the algorithm starts. Hence, we can count this state only once.<br>\n",
    "\n",
    "Once we have the distinction above, the number of options for the scooter's location is $k+l$, as it can only stop at gas stations (which there are $l$ of) or delivery drop-off locations (which there are $k$ of). <br>\n",
    "\n",
    "As for the fuel level $d$, if we assume the possible fuel levels are real values between $0$ and $d_\\textrm{refuel}$ in, say, double-precision, then the number of options is $2^{64}=18446744073709551616$ (with maximal resolution possible with respect to the real  value range $[0,d_\\textrm{refuel}]$).\n",
    "\n",
    "As was pointed out in the exercise, we can keep track of only one of the sets $T,F$, since the other is its complimentary set with respect to $[k] =\\{ 1,\\dots,k\\}$. Without loss of generality let us keep track of only $T$. Hence, the number of possible sets $T$ is $|\\mathcal{P}([k])|=2^k$, where $\\mathcal{P}()$ denotes the power set. <br>\n",
    "\n",
    "To summarize, the resulting number of states is given by the formula $$((k+l)\\cdot (2^{64})\\cdot 2^{k})+1$$"
   ]
  },
  {
   "cell_type": "markdown",
   "metadata": {},
   "source": [
    "### Question 5\n",
    "Yes. Assume that $|T|\\geq 2$ and that the scooter has just enough gas to reach a certain delivery drop-off point $t_i$ from its current location, and have exactly zero fuel left upon arrival at $t_i$. The operation $|T|\\leftarrow |T|-1$ is computed, and the scooter cannot go further to any delivery drop-off point nor gas station in the graph, and the new state it's at is not a goal state since $|T|\\geq 1$."
   ]
  },
  {
   "cell_type": "markdown",
   "metadata": {},
   "source": [
    "### Question 6\n",
    "$$\\text{Succ}_{1}\\left(\\left(v_{1},d_{1},T_{1},F_{1}\\right)\\right) = \\left\\{ \\left(v_{2},d_{2},T_{2},F_{2}\\right)\\in S:\\ \\substack{v_{2}\\in\\text{ Ord }\\\\\n",
    "d_{2}=d_{1}-\\text{ Dist}\\left(v_{1},v_{2}\\right)\\quad\\land\\quad d_{1}-\\text{ Dist}\\left(v_{1},v_{2}\\right)\\geq0\\\\\n",
    "\\exists i\\in\\left[k\\right]:\\quad i\\in T_{1}\\quad\\land\\quad T_{2}=T_{1}\\setminus\\left\\{ i\\right\\} \\quad\\land\\quad F_{2}=F_{1}\\cup\\left\\{ i\\right\\} \\\\\n",
    "\\text{There exists a directed path \\ensuremath{v_{1}\\to\\dots\\to v_{2}} on the map}\n",
    "}\n",
    "\\right\\}$$\n",
    "$$\n",
    "\\text{Succ}_{2}\\left(\\left(v_{1},d_{1},T_{1},F_{1}\\right)\\right)\t=\\left\\{ \\left(v_{2},d_{2},T_{2},F_{2}\\right)\\in S:\\ \\substack{v_{2}\\in\\text{ GasStations }\\\\\n",
    "d_{2}=d_{\\text{refuel}}\\quad\\land\\quad d_{1}-\\text{ Dist}\\left(v_{1},v_{2}\\right)\\geq0\\\\\n",
    "T_{1}=T_{2}\\quad\\land\\quad F_{1}=F_{2}\\\\\n",
    "\\text{There exists a directed path \\ensuremath{v_{1}\\to\\dots\\to v_{2}} on the map}\n",
    "}\n",
    "\\right\\} $$\n",
    "$$\n",
    "\\text{Succ}{\\left(\\left(v_{1},d_{1},T_{1},F_{1}\\right)\\right)}\t=\\text{Succ}_{1}\\left(\\left(v_{1},d_{1},T_{1},F_{1}\\right)\\right)\\ \\cup\\ \\text{Succ}_{2}\\left(\\left(v_{1},d_{1},T_{1},F_{1}\\right)\\right)$$"
   ]
  },
  {
   "cell_type": "markdown",
   "metadata": {},
   "source": [
    "### Question 7\n",
    "If we ignore the fuel constraint and assume that $d_0$ is very big such that the scooter does not need to refuel during its trip, the goal state minimal depth must be at least the number of delivery drop-off points $k$, as the scooter must go through all of them to get to a goal state. If we reconsider the fuel constraint, each refuel operation adds one level of depth to the search, hence increasing the depth. Therefore, the minimal depth is $k$."
   ]
  },
  {
   "cell_type": "markdown",
   "metadata": {},
   "source": [
    "### Question 8\n",
    "load_map_from_csv: 1.52sec\n",
    "\n",
    "Solve the map problem.\n",
    "Map(src: 54 dst: 549)                 UniformCost                   time:   0.59   #dev: 17355   total_cost:  7465.52897   |path|: 137   path: [   54,    55,    56,    57,    58,    59,    60, 28893, 14580, 14590, 14591, 14592, 14593, 81892, 25814,    81, 26236, 26234,  1188, 33068, 33069, 33070, 15474, 33071,  5020, 21699, 33072, 33073, 33074, 16203,  9847,  9848,  9849,  9850,  9851,   335,  9852, 82906, 82907, 82908, 82909, 95454, 96539, 72369, 94627, 38553, 72367, 29007, 94632, 96540,  9269, 82890, 29049, 29026, 82682, 71897, 83380, 96541, 82904, 96542, 96543, 96544, 96545, 96546, 96547, 82911, 82928, 24841, 24842, 24843,  5215, 24844,  9274, 24845, 24846, 24847, 24848, 24849, 24850, 24851, 24852, 24853, 24854, 24855, 24856, 24857, 24858, 24859, 24860, 24861, 24862, 24863, 24864, 24865, 24866, 82208, 82209, 82210, 21518, 21431, 21432, 21433, 21434, 21435, 21436, 21437, 21438, 21439, 21440, 21441, 21442, 21443, 21444, 21445, 21446, 21447, 21448, 21449, 21450, 21451,   621, 21452, 21453, 21454, 21495, 21496,   539,   540,   541,   542,   543,   544,   545,   546,   547,   548,   549]"
   ]
  },
  {
   "cell_type": "markdown",
   "metadata": {},
   "source": [
    "### Question 11\n",
    "load_map_from_csv: 1.39sec\n",
    "\n",
    "Solve the map problem.\n",
    "Map(src: 54 dst: 549)                 A* (h=AirDist, w=0.500)       time:   0.09   #dev: 2016    total_cost:  7465.52897   |path|: 137   path: [   54,    55,    56,    57,    58,    59,    60, 28893, 14580, 14590, 14591, 14592, 14593, 81892, 25814,    81, 26236, 26234,  1188, 33068, 33069, 33070, 15474, 33071,  5020, 21699, 33072, 33073, 33074, 16203,  9847,  9848,  9849,  9850,  9851,   335,  9852, 82906, 82907, 82908, 82909, 95454, 96539, 72369, 94627, 38553, 72367, 29007, 94632, 96540,  9269, 82890, 29049, 29026, 82682, 71897, 83380, 96541, 82904, 96542, 96543, 96544, 96545, 96546, 96547, 82911, 82928, 24841, 24842, 24843,  5215, 24844,  9274, 24845, 24846, 24847, 24848, 24849, 24850, 24851, 24852, 24853, 24854, 24855, 24856, 24857, 24858, 24859, 24860, 24861, 24862, 24863, 24864, 24865, 24866, 82208, 82209, 82210, 21518, 21431, 21432, 21433, 21434, 21435, 21436, 21437, 21438, 21439, 21440, 21441, 21442, 21443, 21444, 21445, 21446, 21447, 21448, 21449, 21450, 21451,   621, 21452, 21453, 21454, 21495, 21496,   539,   540,   541,   542,   543,   544,   545,   546,   547,   548,   549]"
   ]
  },
  {
   "cell_type": "markdown",
   "metadata": {},
   "source": [
    "### Question 12\n",
    "When the weight is 0.5, the algorithm is exactly the A* algorithm. As the weight increases, the algorithm gets closer to the greedy best search algorithm, with a weight value of 1 being the greedy best search algorithm itself. <br>\n",
    "\n",
    "As the weight increases, the algorithm relies more and more on the heuristic function and less and less on the cost of the current path, as we've seen in class. In addition, as the weight increases, we can see that the computation becomes \n",
    "<img src=\".\\question12plot.png\">"
   ]
  },
  {
   "cell_type": "markdown",
   "metadata": {},
   "source": [
    "### Question 14\n",
    "The MaxAirDist heuristic is indeed admissable, since it does not take into account all other nodes that need to be visited excecpt for the node with the maximal air distance from the current node that has not been visited yet.\n",
    "\n",
    "In other words, if there is only one more node that needs to be visited before a goal state is reached, the MaxAirDist heuristic will return the exact distance to the goal state, which is $h^{*}$, else, it will return a smaller value than $h^{*}$, hence it is indeed admissable."
   ]
  },
  {
   "cell_type": "markdown",
   "metadata": {},
   "source": [
    "### Question 16\n",
    "Solve the relaxed deliveries problem.<br>\n",
    "RelaxedDeliveries(big_delivery)       A* (h=MaxAirDist, w=0.500)    time:   3.82   #dev: 3908    total_cost: 40844.21165   |path|: 11    path: [33919, 18409, 77726, 26690, 31221, 63050, 84034, 60664, 70557, 94941, 31008]   gas-stations: [31221, 70557]"
   ]
  },
  {
   "cell_type": "markdown",
   "metadata": {},
   "source": [
    "### Question 17\n",
    "Solve the relaxed deliveries problem.<br>\n",
    "RelaxedDeliveries(big_delivery)       A* (h=MSTAirDist, w=0.500)    time:   1.19   #dev: 87      total_cost: 40844.21165   |path|: 11    path: [33919, 18409, 77726, 26690, 31221, 63050, 84034, 60664, 70557, 94941, 31008]   gas-stations: [31221, 70557]"
   ]
  },
  {
   "cell_type": "markdown",
   "metadata": {},
   "source": [
    "### Question 18\n",
    "\n",
    "<img src=\".\\question18plot.png\">"
   ]
  },
  {
   "cell_type": "markdown",
   "metadata": {},
   "source": [
    "### Question 19\n",
    "$$\n",
    "\\forall x_{i}\\in x^{t}:\\quad\\text{Pr}\\left(x_{i}\\right)=\\frac{\\left(\\frac{x_{i}}{\\alpha}\\right)^{-1/T}}{\\sum_{j}\\left(\\frac{x_{j}}{\\alpha}\\right)^{-1/T}}=\\frac{x_{i}^{-1/T}\\cdot\\alpha^{1/T}}{\\sum_{j}\\left(x_{j}^{-1/T}\\cdot\\alpha^{1/T}\\right)}=\\frac{x_{i}^{-1/T}\\cdot\\alpha^{1/T}}{\\alpha^{1/T}\\sum_{j}x_{j}^{-1/T}}=\\frac{x_{i}^{-1/T}}{\\sum_{j}x_{j}^{-1/T}}\n",
    "$$"
   ]
  },
  {
   "cell_type": "markdown",
   "metadata": {},
   "source": [
    "### Question 20\n",
    "<img src=\".\\question20plot.png\">"
   ]
  },
  {
   "cell_type": "markdown",
   "metadata": {},
   "source": [
    "### Question 21\n",
    "First let us notice that the expression can be rewritten in the form:\n",
    "$$\\forall x_{i}\\in x:\\quad\\text{Pr}\\left(x_{i}\\right)=\\frac{x_{i}^{-1/T}}{\\sum_{j\\in\\left[N\\right]}x_{j}^{-1/T}}=\\dots=\\frac{1}{1+\\sum_{i\\neq j}\\left(\\frac{x_{i}}{x_{j}}\\right)^{1/T}}$$\n",
    "And by taking the limit $T\\to0$, we have two options:\n",
    "\n",
    "1. if $x_{i}<x_{j}$ for every $i\\neq j$ then $\\sum_{i\\neq j}\\left(\\frac{x_{i}}{x_{j}}\\right)^{1/T}\\xrightarrow[T\\to0]{}0$ and $\\lim_{T\\to0}\\text{Pr}\\left(x_{i}\\right)=\\frac{1}{1+0}=1$. This is the case where $x_{i}=\\min_{j}\\left\\{ x_{j}\\right\\} _{j=1}^{N}=\\alpha$ is the minimal element.\n",
    "\n",
    "2. if there exists at least one $j$ such that $x_{i}\\geq x_{j}$ then we get: \n",
    "\n",
    "$\\qquad$(a) $\\left(\\frac{x_{i}}{x_{j}}\\right)^{1/T}\\xrightarrow[T\\to0]{}\\infty$ if $x_{i}>x_{j}$, which leads to $\\lim_{T\\to0}\\text{Pr}\\left(x_{i}\\right)=\\infty$. This is the case where $x_{i}$ is not the minimal element of $\\left\\{ x_{j}\\right\\} _{j=1}^{N}$.\n",
    "\n",
    "$\\qquad$(b) $\\left(\\frac{x_{i}}{x_{j}}\\right)^{1/T}=\\left(1\\right)^{1/T}=1\\xrightarrow[T\\to0]{}1$, if there is exactly one $j$ that satisfies the equality $x_{i}=x_{j}$.\n",
    "\n",
    "$\\qquad$(c) If there are $\\left\\{ x_{k}\\right\\} _{k\\in K}$ where $K\\subseteq N$ and $2\\leq\\left|K\\right|\\leq\\left|N\\right|$ that satisfy $x_{i}=x_{k}$ for all $k\\in K$, and all other coordinates satisfy $x_{i}<x_{j}$ (such that their summands vanish), we get $\\lim_{T\\to0}\\text{Pr}\\left(x_{i}\\right)=\\frac{1}{1+\\left|K\\right|\\cdot1+\\left(0+\\dots+0\\right)}=\\frac{1}{1+K}$."
   ]
  },
  {
   "cell_type": "markdown",
   "metadata": {},
   "source": [
    "### Question 22\n",
    "By using the equivalent expression of the probability function from question 21 and taking the limit $T\\to\\infty$ while assuming $x_{j}\\neq0$ for all $j$, we get\n",
    "$$\\lim_{T\\to\\infty}\\text{Pr}\\left(x_{i}\\right)=\\lim_{T\\to\\infty}\\frac{1}{1+\\sum_{i\\neq j}\\left(\\underbrace{\\frac{x_{i}}{x_{j}}}_{\\neq0}\\right)^{1/T}}=\\frac{1}{1+\\underbrace{\\left(1+\\dots+1\\right)}_{N-1\\text{ times}}}=\\frac{1}{N}$$\n",
    "\n",
    "and since in our case $N=5$, we get that indeed the limit is $\\frac{1}{5}=0.2$, as can be seen in the plot."
   ]
  },
  {
   "cell_type": "markdown",
   "metadata": {},
   "source": [
    "### Question 24\n",
    "<img src=\".\\question24plot.png\">"
   ]
  },
  {
   "cell_type": "markdown",
   "metadata": {},
   "source": [
    "### Question 26\n",
    "<img src=\".\\question26plot.png\">"
   ]
  },
  {
   "cell_type": "markdown",
   "metadata": {},
   "source": [
    "### Theoretical Question\n",
    "1. From the fact that h is admissible we know that $\\forall s\\in S$ such that $\\text{Applicable}_h (s)$ is True , $h_0(h,s)=h(s)\\leq h^*(s)$. In addition, $\\forall s\\in S$ such that $\\text{Applicable}_h (s)$ is False , $h_0(h,s)=0 \\leq h^*(s)$ because the price function is bounded from below by $\\delta>0$ so $h^*(s)\\geq 0, \\forall s\\in S$. From that we conclude $h_0$ is also admissible\n",
    "2. \n",
    "3. \n",
    "4. The claim is correct. From the fact that $h'(s_0)$ is given ($s_0$ is the start state) and equals $h^*(s_0)$, then we can use DFS-L with depth of $h'(s_0)$ and the heuristic $h_0(h',s)$ for choosing next node from $succ(s)$ in each iteration. the algorithm in this case is admissible because it is given in the question that there exist a solution with depth of $h'(s_0)$ and it is optimal, so the algorithm will find such a solution necessarily, as we learned for DFS-L. explanation why the run time of the algorithm is bounded above by $A^*$: If v is a node/state that the DFS-L algorithm (with $h'(s_0)$ depth as input and the heuristic $h_0(h',s)$) has developed then it means that $L(v) \\leq h^*(s_0)$ and because of that the $A^*$ algorithm with the same heuristic will also develope v by the way $A^*$ is defined (plus the assumption on the heritage order in the question). In addition, DFS-L algorithm will develope v excactly one time because the graph is a tree and this is not necessarily true for $A^*$. The conclusion from the explantions is that the algorithm's run time is bounded from above by $A^*$ run time with the same $h_0(h',s)$ heuristic as we claimed"
   ]
  },
  {
   "cell_type": "markdown",
   "metadata": {},
   "source": []
  }
 ],
 "metadata": {
  "kernelspec": {
   "display_name": "Python 3",
   "language": "python",
   "name": "python3"
  },
  "language_info": {
   "codemirror_mode": {
    "name": "ipython",
    "version": 3
   },
   "file_extension": ".py",
   "mimetype": "text/x-python",
   "name": "python",
   "nbconvert_exporter": "python",
   "pygments_lexer": "ipython3",
   "version": "3.6.7"
  }
 },
 "nbformat": 4,
 "nbformat_minor": 2
}
