{
 "cells": [
  {
   "cell_type": "markdown",
   "metadata": {},
   "source": [
    "Part A"
   ]
  },
  {
   "cell_type": "markdown",
   "metadata": {},
   "source": [
    "1) the requested table is produced by the following code:"
   ]
  },
  {
   "cell_type": "code",
   "execution_count": 14,
   "metadata": {},
   "outputs": [
    {
     "name": "stdout",
     "output_type": "stream",
     "text": [
      "|   k |   l = 0 |         l = 5 |\n|-----+---------+---------------|\n|   1 |       1 |             1 |\n|   2 |       2 |            10 |\n|   3 |       6 |           150 |\n|   4 |      24 |          3000 |\n|   5 |     120 |         75000 |\n|   6 |     720 |       2250000 |\n|   7 |    5040 |      78750000 |\n|   8 |   40320 |    3150000000 |\n|   9 |  362880 |  141750000000 |\n|  10 | 3628800 | 7087500000000 |\n"
     ]
    }
   ],
   "source": [
    "from tabulate import tabulate\n",
    "import math\n",
    "\n",
    "list1 = []\n",
    "for x in range(1, 11):\n",
    "    list2 = [x, math.factorial(x), math.factorial(x) * (5 ** (x - 1))]\n",
    "    list1.append(list2)\n",
    "print(tabulate(list1, headers=['k', 'l = 0', 'l = 5'], tablefmt='orgtbl'))\n"
   ]
  },
  {
   "cell_type": "markdown",
   "metadata": {},
   "source": [
    "Part C"
   ]
  },
  {
   "cell_type": "markdown",
   "metadata": {},
   "source": [
    "2) The branching factor's extremum values are: <br> <br>\n",
    "Maximum = $k+l$ because if our graph is a complete graph, each vertex is connected to all other gas stations and all other delivery points. If the current vertex is $v_0$, then it is connected to all other $k+l$ vertices of the graph. This is the maximal number of vertices it can be connected to using the operators defined in the exercise. <br> <br>\n",
    "Minimum = $1$ because if the graph is 1-regular (שרוך) then the maximal outdegree of each vertex is 1, and therefore the graph's branching factor is 1."
   ]
  },
  {
   "cell_type": "markdown",
   "metadata": {},
   "source": [
    "3) Yes. Consider a graph that contains two gas station vertices $f_1,f_2$ that are connected to each other, and the distance between them is less than the maximal distance the scooter can go when its fuel tank is full. Suppose the scooter is currently at $f_1$. Therefore, its fuel tank is full. Let us denote this state as $S_1$. Suppose it chooses to go to $f_2$. Once it arrives at $f_2$, its fuel capacity is once again full. Lastly, suppose the scooter chooses to go back to $f_1$. Once it arrives there (for the second time), its fuel capacity is once again full. Note that the current state is identical to $S_1$, as The sets $T,F$ have not changed during this path's traversal, and the fuel levels were constant. Therefore, we have found a directed cycle in the graph."
   ]
  },
  {
   "cell_type": "markdown",
   "metadata": {},
   "source": [
    "4) Let us first distinguish between $((k+l)*d_\\textrm{refuel}*2^{k})+1$"
   ]
  },
  {
   "cell_type": "markdown",
   "metadata": {},
   "source": [
    "5)  yes: delivery point --> fuel station (but not enough fuel to reach it)"
   ]
  },
  {
   "cell_type": "markdown",
   "metadata": {},
   "source": [
    "6) k (if infinite fuel)"
   ]
  },
  {
   "cell_type": "code",
   "execution_count": 14,
   "metadata": {},
   "outputs": [],
   "source": []
  }
 ],
 "metadata": {
  "kernelspec": {
   "display_name": "Python 3",
   "language": "python",
   "name": "python3"
  },
  "language_info": {
   "codemirror_mode": {
    "name": "ipython",
    "version": 3
   },
   "file_extension": ".py",
   "mimetype": "text/x-python",
   "name": "python",
   "nbconvert_exporter": "python",
   "pygments_lexer": "ipython3",
   "version": "3.6.7"
  }
 },
 "nbformat": 4,
 "nbformat_minor": 2
}
