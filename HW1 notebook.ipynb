{
 "cells": [
  {
   "cell_type": "heading",
   "metadata": {},
   "level": 5,
   "source": [
    "\t\t\t\t\t\tPart A question 1"
   ]
  },
  {
   "cell_type": "markdown",
   "metadata": {},
   "source": [
    "the requested table is produced by the following code:"
   ]
  },
  {
   "cell_type": "code",
   "execution_count": 1,
   "metadata": {},
   "outputs": [
    {
     "name": "stdout",
     "output_type": "stream",
     "text": [
      "|   k |   l = 0 |         l = 5 |\n|-----+---------+---------------|\n|   1 |       1 |             1 |\n|   2 |       2 |            10 |\n|   3 |       6 |           150 |\n|   4 |      24 |          3000 |\n|   5 |     120 |         75000 |\n|   6 |     720 |       2250000 |\n|   7 |    5040 |      78750000 |\n|   8 |   40320 |    3150000000 |\n|   9 |  362880 |  141750000000 |\n|  10 | 3628800 | 7087500000000 |\n"
     ]
    }
   ],
   "source": [
    "from tabulate import tabulate\n",
    "import math\n",
    "\n",
    "list = []\n",
    "for x in range(1, 11):\n",
    "    list2 = [x, math.factorial(x), math.factorial(x) * (5 ** (x - 1))]\n",
    "    list.append(list2)\n",
    "print(tabulate(list, headers=['k', 'l = 0', 'l = 5'], tablefmt='orgtbl'))"
   ]
  },
  {
   "cell_type": "code",
   "execution_count": null,
   "metadata": {},
   "outputs": [],
   "source": []
  }
 ],
 "metadata": {
  "kernelspec": {
   "display_name": "Python 3",
   "language": "python",
   "name": "python3"
  },
  "language_info": {
   "codemirror_mode": {
    "name": "ipython",
    "version": 3
   },
   "file_extension": ".py",
   "mimetype": "text/x-python",
   "name": "python",
   "nbconvert_exporter": "python",
   "pygments_lexer": "ipython3",
   "version": "3.6.7"
  }
 },
 "nbformat": 4,
 "nbformat_minor": 2
}
