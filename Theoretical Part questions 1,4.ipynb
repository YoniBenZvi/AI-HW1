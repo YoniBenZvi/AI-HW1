{
 "cells": [
  {
   "cell_type": "markdown",
   "metadata": {
    "collapsed": true
   },
   "source": [
    "# Part 2 - Theoretical Question"
   ]
  },
  {
   "cell_type": "markdown",
   "metadata": {},
   "source": [
    "a. From the fact that h is admissible then $\\forall s\\in S$ such that $Applicable_h (s)$ is True , $h_0(h,s)=h(s)\\leq h^*(s)$. In addition, $\\forall s\\in S$ such that $Applicable_h (s)$ is False , $h_0(h,s)=0 \\leq h^*(s)$ because the price function is bounded from below by $\\delta>0$ so $h^*(s)\\geq 0, \\forall s\\in S$. From that we conclude $h_0$ is also admissible    "
   ]
  },
  {
   "cell_type": "markdown",
   "metadata": {},
   "source": [
    "b."
   ]
  },
  {
   "cell_type": "markdown",
   "metadata": {},
   "source": [
    "c."
   ]
  },
  {
   "cell_type": "markdown",
   "metadata": {},
   "source": [
    "d. The claim is correct.\n",
    "\n",
    "From the fact that $h'(s_0)$ is given ($s_0$ is the start state) and equals $h^*(s_0)$, then we can use DFS-L with depth of $h'(s_0)$ and the heuristic $h_0(h',s)$ for choosing next node from $succ(s)$ in each iteration. the algorithm in this case is admissible because it is given in the question that there exist a solution with depth of $h'(s_0)$ and it is optimal, so the algorithm will find such a solution necessarily, as we learned for DFS-L. \n",
    "\n",
    "explanation why the run time of the algorithm is bounded above by $A^*$: If v is a node/state that the DFS-L algorithm (with $h'(s_0)$ depth as input and the heuristic $h_0(h',s)$) has developed then it means that $L(v) \\leq h^*(s_0)$ and because of that the $A^*$ algorithm with the same heuristic will also develope v by the way $A^*$ is defined (plus the assumption on the heritage order in the question). In addition, DFS-L algorithm will develope v excactly one time because the graph is a tree and this is not necessarily true for $A^*$. The conclusion from the explantions is that the algorithm's run time is bounded from above by $A^*$ run time with the same $h_0(h',s)$ heuristic as we claimed"
   ]
  },
  {
   "cell_type": "code",
   "execution_count": null,
   "metadata": {},
   "outputs": [],
   "source": []
  }
 ],
 "metadata": {
  "kernelspec": {
   "display_name": "Python 3",
   "language": "python",
   "name": "python3"
  },
  "language_info": {
   "codemirror_mode": {
    "name": "ipython",
    "version": 3
   },
   "file_extension": ".py",
   "mimetype": "text/x-python",
   "name": "python",
   "nbconvert_exporter": "python",
   "pygments_lexer": "ipython3",
   "version": "3.6.7"
  }
 },
 "nbformat": 4,
 "nbformat_minor": 1
}
