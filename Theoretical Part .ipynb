{
 "cells": [
  {
   "cell_type": "markdown",
   "metadata": {
    "collapsed": true
   },
   "source": [
    "# Part 2 - Theoretical Question"
   ]
  },
  {
   "cell_type": "markdown",
   "metadata": {},
   "source": [
    "a. From the fact that h is admissible then $\\forall s\\in S$ such that $Applicable_h (s)$ is True , $h_0(h,s)=h(s)\\leq h^*(s)$. In addition, $\\forall s\\in S$ such that $Applicable_h (s)$ is False , $h_0(h,s)=0 \\leq h^*(s)$ because the price function is bounded from below by $\\delta>0$ so $h^*(s)\\geq 0, \\forall s\\in S$. From that we conclude $h_0$ is also admissible."
   ]
  },
  {
   "cell_type": "markdown",
   "metadata": {},
   "source": [
    "b. We assume that the state space is a tree. Our suggested Heuristic is $h'(v) = h(v)$ if $Applicable_h (v)$ is True <br>\n",
    "$h'(v) = 0$ if $Applicable_h (v)$ is False and isGoal(v) is True.\n",
    "$h'(v) = min(cost(v,s)) , s\\in Succ(v)$ , otherwise.\n",
    "If $Applicable_h (v)$ is True then $h'(v) \\leq h^*(v)$ because h is admissible and if isGoal(v) is True and $Applicable_h (v)$ is False then $h'(v) = 0 \\leq h^*(v)$ because the function price is positive. Otherwise, from the fact that the price function is positive then the minimal cost of a path from v to a goal state is at least the minimal cost of an edge from v to one of its successors, so anyway $h'(v) \\leq h^*(v)$ and it means h' is admissible as needed.\n",
    "Now, for each v in the tree then $h_0(v) \\leq h'(v)$ because if $Applicable_h (v)$ is True or if isGoal(v) is True then $h_0(v) = h'(v)$ and otherwise $h_0(v) = 0 < \\delta \\leq h'(v)$, h' is more informed then $h_0$."
   ]
  },
  {
   "cell_type": "markdown",
   "metadata": {},
   "source": [
    "c. "
   ]
  },
  {
   "cell_type": "markdown",
   "metadata": {},
   "source": [
    "d. The claim is correct.\n",
    "\n",
    "From the fact that $h'(s_0)$ is given ($s_0$ is the initial state) and equals $h^*(s_0)$, then we can use DFS-L with depth input of $h'(s_0)$. the algorithm in this case is admissible because it is given in the question that there exists a solution with depth of $h'(s_0)$ and it is optimal, so the algorithm will find such a solution necessarily, as we learned for DFS-L. \n",
    "\n",
    "explanation why the run time of the algorithm is bounded above by $A^*$: If v is a node/state that the DFS-L algorithm (with $h'(s_0)$ depth as input) has developed then it means that $depth(v) \\leq h^*(s_0)$ and because of that the $A^*$ algorithm with the $h_0(h',s)$ heuristic will also develope v by the way $A^*$ is defined (plus the assumption on the heritage order in the question). In addition, DFS-L algorithm will develope v excactly one time because the graph is directed tree and this is not necessarily true for $A^*$. The conclusion from the explantions is that the algorithm's run time is bounded from above by $A^*$ run time with the $h_0(h',s)$ heuristic as we claimed."
   ]
  },
  {
   "cell_type": "code",
   "execution_count": null,
   "metadata": {},
   "outputs": [],
   "source": []
  }
 ],
 "metadata": {
  "kernelspec": {
   "display_name": "Python 3",
   "language": "python",
   "name": "python3"
  },
  "language_info": {
   "codemirror_mode": {
    "name": "ipython",
    "version": 3
   },
   "file_extension": ".py",
   "mimetype": "text/x-python",
   "name": "python",
   "nbconvert_exporter": "python",
   "pygments_lexer": "ipython3",
   "version": "3.6.7"
  }
 },
 "nbformat": 4,
 "nbformat_minor": 1
}
