{
 "cells": [
  {
   "cell_type": "markdown",
   "metadata": {
    "collapsed": true
   },
   "source": [
    "# Part 2 - Theoretical Question"
   ]
  },
  {
   "cell_type": "markdown",
   "metadata": {},
   "source": [
    "a. From the fact that $h$ is admissible we know that $\\forall s\\in S$ such that $\\text{Applicable}_h (s)$ is True , $h_0(h,s)=h(s)\\leq h^*(s)$. In addition, $\\forall s\\in S$ such that $\\text{Applicable}_h (s)$ is False , $h_0(h,s)=0 \\leq h^*(s)$ because the price function is bounded from below by $\\delta>0$ so $h^*(s)\\geq 0, \\forall s\\in S$. From that we conclude that $h_0$ is also admissible."
   ]
  },
  {
   "cell_type": "markdown",
   "metadata": {},
   "source": [
    "b. We assume that the state space is a tree. Our suggested Heuristic is: \n",
    "\n",
    "$$h'\\left(v\\right)=\\begin{cases}\n",
    "h\\left(v\\right) & \\text{if Applicable}_{h}\\left(v\\right)\\text{is true}\\\\\n",
    "0 & \\text{if Applicable}_{h}\\left(v\\right)\\text{is false} \\land  \\text{isGoal}\\left(v\\right)\\\\\n",
    "\\min_{u\\in\\text{Succ}\\left(v\\right)}\\left(\\text{cost}\\left(v,u\\right)\\right) & \\text{otherwise}\n",
    "\\end{cases}\\text{ is true }$$\n",
    "\n",
    "If $\\text{Applicable}_h (v)$ is True then $h'(v) \\leq h^*(v)$ because $h$ is admissible and if isGoal($v$) is True and $\\text{Applicable}_h(v)$ is False then $h'(v) = 0 \\leq h^*(v)$ because the function price is positive. Otherwise, from the fact that the price function is positive we know the minimal cost of a path from $v$ to a goal state is at least the minimal cost of an edge from $v$ to one of its successors, therefore, $h'(v) \\leq h^*(v)$ and it means $h'$ is admissible as needed.\n",
    "Now, for each $v$ in the tree $h_0(v) \\leq h'(v)$ because if $\\text{Applicable}_h (v)$ is True or if isGoal($v$) is True then $h_0(v) = h'(v)$ and otherwise $h_0(v) = 0 < \\delta \\leq h'(v)$, $h'$ is more informed than $h_0$."
   ]
  },
  {
   "cell_type": "markdown",
   "metadata": {},
   "source": [
    "c. As can be seen in section b, the fact that the state space is a tree was not actually used, therefore the same heuristic function $h'$ can be used on any state space.\n",
    "\n",
    "Another solution could be to add information to each state $s$ in our state space; whether it has been visited already or not. If it hasn't been visited its heuristic value will be $h'(s)$ (from section b). If it has been visited then the heuristic value that will be returned is $h_0(h,s)$. Since for every state $s$, $h'(s)\\geq h_0(h,s)$ and clearly $h_0(h,s)\\geq h_0(h,s)$, in addition to what was defined and explained in section b, the heuristic function we've suggested is this section is indeed more informed than $h_0$, and still admissible."
   ]
  },
  {
   "cell_type": "markdown",
   "metadata": {},
   "source": [
    "d. The claim is correct.\n",
    "\n",
    "Let us first note that the $A^*$ algorithm with the given $h_0(h',s)$ heuristic actually behaves like the Uniform Cost algorithm, since the heuristic value of all nodes is zero (as in Uniform Cost) except the initial node, and the initial node's heuristic value doesn't actually affect the algorithm's behaviour since the initial node does not 'compete' with any other node before being expanded.\n",
    "\n",
    "From the fact that $h'(s_0)$ is given ($s_0$ is the initial state) and equals $h^*(s_0)$, we can use a variation of the DFS-L algorithm, which replaces the depth restriction input with a cost restriction instead, and use it with a restriction equal to $h'(s_0)$. the algorithm in this case is admissible because it is given in the question that there exists a solution with a cost of $h'(s_0)$ and it is optimal, hence the algorithm will necessarily find such a solution, as we've learned for DFS-L.\n",
    "\n",
    "explanation why the run time of the algorithm is bounded above by $A^*$: If $v$ is a node/state that the DFS-L algorithm (with $h'(s_0)$ cost as input) has expanded then it means that $\\text{cost}(v) \\leq h^*(s_0)$. Therefore, the $A^*$ algorithm with the $h_0(h',s)$ heuristic will also expand $v$, by the way $A^*$ (with the given heuristic) is defined (plus the assumption on the succession order in the question). The key distincion to observe here is that there might be nodes that are not expanded by DFS-L (since it gets the $h'(s_0)$ cost as input), but they <i>will</i> be expanded by the $A^*$ algorithm (since it will expand all the nodes until the first goal state is found, which will have a cost of exactly $h'(s_0)$).  The conclusion is that the DFS-L's run time is bounded from above by $A^*$ run time with the $h_0(h',s)$ heuristic as we claimed."
   ]
  },
  {
   "cell_type": "code",
   "execution_count": null,
   "metadata": {},
   "outputs": [],
   "source": []
  }
 ],
 "metadata": {
  "kernelspec": {
   "display_name": "Python 3",
   "language": "python",
   "name": "python3"
  },
  "language_info": {
   "codemirror_mode": {
    "name": "ipython",
    "version": 3
   },
   "file_extension": ".py",
   "mimetype": "text/x-python",
   "name": "python",
   "nbconvert_exporter": "python",
   "pygments_lexer": "ipython3",
   "version": "3.6.7"
  }
 },
 "nbformat": 4,
 "nbformat_minor": 1
}
