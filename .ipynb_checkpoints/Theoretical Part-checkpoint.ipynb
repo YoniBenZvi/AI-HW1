{
 "cells": [
  {
   "cell_type": "markdown",
   "metadata": {
    "collapsed": true
   },
   "source": [
    "# Part 2 - Theoretical Question"
   ]
  },
  {
   "cell_type": "markdown",
   "metadata": {},
   "source": [
    "a. From the fact that $h$ is admissible we know that $\\forall s\\in S$ such that $\\text{Applicable}_h (s)$ is True , $h_0(h,s)=h(s)\\leq h^*(s)$. In addition, $\\forall s\\in S$ such that $\\text{Applicable}_h (s)$ is False , $h_0(h,s)=0 \\leq h^*(s)$ because the price function is bounded from below by $\\delta>0$ so $h^*(s)\\geq 0, \\forall s\\in S$. From that we conclude $h_0$ is also admissible."
   ]
  },
  {
   "cell_type": "markdown",
   "metadata": {},
   "source": [
    "b. We assume that the state space is a tree. Our suggested Heuristic is $h'(s) = h(s)$ if $Applicable_h (s)$ is True <br>\n",
    "$h'(s) = 0$ if $Applicable_h (s)$ is False and isGoal(s) is True.\n",
    "$h'(s) = min(cost(s,t)) , t\\in Succ(s)$ , otherwise.\n",
    "If $Applicable_h (s)$ is True then $h'(s) \\leq h^*(s)$ because h is admissible and if isGoal(s) is True and $Applicable_h (s)$ is False then $h'(s) = 0 \\leq h^*(s)$ because the function price is positive. Otherwise, from the fact that the price function is positive then the minimal cost of a path from s to a goal state is at least the minimal cost of an edge from v to one of its successors, so anyway $h'(s) \\leq h^*(v)$ and it means h' is admissible as needed.\n",
    "Now, for each s in the tree then $h_0(s) \\leq h'(s)$ because if $Applicable_h (s)$ is True or if isGoal(s) is True then $h_0(s) = h'(s)$ and otherwise $h_0(s) = 0 < \\delta \\leq h'(s)$, h' is more informed then $h_0$."
   ]
  },
  {
   "cell_type": "markdown",
   "metadata": {},
   "source": [
    "c. Now the state space is not necessarily a tree so we will add information to each state if it has been visited already or not, if it hasn't been visited its heuristic value will be h'(s) (from b.), when s is the state, and if it has been visited then the heuristic value that will be returned is 0. From almost the same explantion as in b., the heuristic we suggested here is still admissible and more informed then $h_0$ as we were asked. "
   ]
  },
  {
   "cell_type": "markdown",
   "metadata": {},
   "source": [
    "d. The claim is correct.\n",
    "\n",
    "From the fact that $h'(s_0)$ is given ($s_0$ is the initial state) and equals $h^*(s_0)$, then we can use DFS-L with depth input of $h'(s_0)$. the algorithm in this case is admissible because it is given in the question that there exists a solution with depth of $h'(s_0)$ and it is optimal, so the algorithm will find such a solution necessarily, as we learned for DFS-L. \n",
    "\n",
    "explanation why the run time of the algorithm is bounded above by $A^*$: If v is a node/state that the DFS-L algorithm (with $h'(s_0)$ depth as input) has developed then it means that $depth(v) \\leq h^*(s_0)$ and because of that the $A^*$ algorithm with the $h_0(h',s)$ heuristic will also develope v by the way $A^*$ is defined (plus the assumption on the heritage order in the question). In addition, DFS-L algorithm will develope v excactly one time because the graph is directed tree and this is not necessarily true for $A^*$. The conclusion from the explantions is that the algorithm's run time is bounded from above by $A^*$ run time with the $h_0(h',s)$ heuristic as we claimed."
   ]
  }
 ],
 "metadata": {
  "kernelspec": {
   "display_name": "Python 3",
   "language": "python",
   "name": "python3"
  },
  "language_info": {
   "codemirror_mode": {
    "name": "ipython",
    "version": 3
   },
   "file_extension": ".py",
   "mimetype": "text/x-python",
   "name": "python",
   "nbconvert_exporter": "python",
   "pygments_lexer": "ipython3",
   "version": "3.6.7"
  }
 },
 "nbformat": 4,
 "nbformat_minor": 1
}
